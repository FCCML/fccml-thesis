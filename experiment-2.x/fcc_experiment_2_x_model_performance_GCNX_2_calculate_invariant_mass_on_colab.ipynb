{
  "nbformat": 4,
  "nbformat_minor": 0,
  "metadata": {
    "colab": {
      "name": "fcc_experiment_2.x_model_performance_GCNX_2_calculate_invariant_mass_on_colab.ipynb",
      "provenance": [],
      "authorship_tag": "ABX9TyOsmNDFVjdjubXpPEBYTnuH",
      "include_colab_link": true
    },
    "kernelspec": {
      "name": "python3",
      "display_name": "Python 3"
    },
    "language_info": {
      "name": "python"
    }
  },
  "cells": [
    {
      "cell_type": "markdown",
      "metadata": {
        "id": "view-in-github",
        "colab_type": "text"
      },
      "source": [
        "<a href=\"https://colab.research.google.com/github/akanksha-ahuja/fcc-final-notebooks/blob/main/fcc_experiment_2_x_model_performance_GCNX_2_calculate_invariant_mass_on_colab.ipynb\" target=\"_parent\"><img src=\"https://colab.research.google.com/assets/colab-badge.svg\" alt=\"Open In Colab\"/></a>"
      ]
    },
    {
      "cell_type": "code",
      "metadata": {
        "id": "bg8Dmy9xUgrO"
      },
      "source": [
        "import pandas as pd\n",
        "import numpy as np\n",
        "import matplotlib.pyplot as plt"
      ],
      "execution_count": null,
      "outputs": []
    },
    {
      "cell_type": "code",
      "metadata": {
        "colab": {
          "base_uri": "https://localhost:8080/"
        },
        "id": "kzDsauLVgs8O",
        "outputId": "9d3ad14c-ba52-43b9-f781-54ee7c57ecf7"
      },
      "source": [
        "# Load the Drive helper and mount\n",
        "from google.colab import drive\n",
        "drive.mount('/content/drive')"
      ],
      "execution_count": null,
      "outputs": [
        {
          "output_type": "stream",
          "name": "stdout",
          "text": [
            "Mounted at /content/drive\n"
          ]
        }
      ]
    },
    {
      "cell_type": "code",
      "metadata": {
        "id": "qiev70_KUkwc"
      },
      "source": [
        "def plot_histogram(total_inv_mass_true, total_inv_mass_pred, label_true, label_pred, fname='hist.png'):\n",
        "  plt.figure(figsize=(10,10))\n",
        "  plt.rcParams.update({'font.size': 20})\n",
        "  plt.hist(total_inv_mass_true, bins=100, histtype='step', color='red', label=label_true)\n",
        "  plt.hist(total_inv_mass_pred, bins=100,  histtype='step', color='blue', label=label_pred)\n",
        "  plt.legend()\n",
        "  plt.savefig(fname, dpi=500)\n",
        "  plt.show()"
      ],
      "execution_count": null,
      "outputs": []
    },
    {
      "cell_type": "code",
      "metadata": {
        "id": "ciTQ9iMLz3Mb"
      },
      "source": [
        "def plot_invariant_mass(total_inv_mass_pred, total_inv_mass_true, label_pred, label_true, fname='plot.png'):\n",
        "  x_list  = [x for x in range(len(total_inv_mass_pred))]\n",
        "  plt.rcParams.update({'font.size': 100, 'lines.markersize':50})\n",
        "  plt.figure(figsize=(500,100))\n",
        "  plt.plot(total_inv_mass_pred, label=label_pred, alpha=0.5, color='blue', linewidth=8.0)\n",
        "  plt.scatter(x_list, total_inv_mass_pred, alpha=0.5, color='blue')\n",
        "  plt.plot(total_inv_mass_true, label=label_true, alpha=0.5, color='red', linewidth=8.0)\n",
        "  plt.scatter(x_list, total_inv_mass_true, alpha=0.5, color='red')\n",
        "  plt.xlabel('Event ID')\n",
        "  plt.ylabel('Invariant Mass')\n",
        "  plt.legend()\n",
        "  plt.xlim(-1,2000)\n",
        "  plt.savefig(fname, dpi=500)\n",
        "  plt.show()"
      ],
      "execution_count": null,
      "outputs": []
    },
    {
      "cell_type": "code",
      "metadata": {
        "id": "UNHybB8Bz1FW"
      },
      "source": [
        "def plot_all_figures(total_inv_mass_true_H, total_inv_mass_pred_H, total_inv_mass_true_Z, total_inv_mass_pred_Z, total_inv_mass_true_O, total_inv_mass_pred_O ):\n",
        "  plot_invariant_mass(total_inv_mass_pred_H, total_inv_mass_pred_Z, \n",
        "                    label_pred=\"Predicted Invariant Mass of Higgs\", \n",
        "                    label_true= \"Predicted Invariant Mass of Z\")\n",
        "  plot_invariant_mass(total_inv_mass_pred_H, total_inv_mass_true_H, \n",
        "                    label_pred=\"Predicted Invariant Mass of Higgs Boson\", \n",
        "                    label_true= \"True Invariant Mass of Higgs Boson\")\n",
        "  plot_invariant_mass(total_inv_mass_pred_Z, total_inv_mass_true_Z, \n",
        "                    label_pred=\"Predicted Invariant Mass of Z Boson\", \n",
        "                    label_true= \"True Invariant Mass of Z Boson\")\n",
        "  plot_invariant_mass(total_inv_mass_pred_O, total_inv_mass_true_O, \n",
        "                    label_pred=\"Predicted Invariant Mass of others\", \n",
        "                    label_true= \"True Invariant Mass of others\")\n"
      ],
      "execution_count": null,
      "outputs": []
    },
    {
      "cell_type": "code",
      "metadata": {
        "id": "wuUY1yQ0WKWX"
      },
      "source": [
        "# getting the saved invariant masses after model training \n",
        "df_knn_inv_mass = pd.read_csv('/content/knn_inv_mass.csv').drop(columns=['Unnamed: 0'])\n",
        "df_radius_inv_mass = pd.read_csv('/content/radius_inv_mass.csv').drop(columns=['Unnamed: 0'])\n",
        "df_label_inv_mass = pd.read_csv('/content/label_inv_mass.csv').drop(columns=['Unnamed: 0'])"
      ],
      "execution_count": null,
      "outputs": []
    },
    {
      "cell_type": "code",
      "metadata": {
        "id": "SBxTNAdZZgCR"
      },
      "source": [
        "# Adding column names \n",
        "df_knn_inv_mass.columns = ['total_inv_mass_true_H', 'total_inv_mass_pred_H', 'total_inv_mass_true_Z', 'total_inv_mass_pred_Z', 'total_inv_mass_true_O', 'total_inv_mass_pred_O']\n",
        "df_radius_inv_mass.columns = ['total_inv_mass_true_H', 'total_inv_mass_pred_H', 'total_inv_mass_true_Z', 'total_inv_mass_pred_Z', 'total_inv_mass_true_O', 'total_inv_mass_pred_O']\n",
        "df_label_inv_mass.columns = ['total_inv_mass_true_H', 'total_inv_mass_pred_H', 'total_inv_mass_true_Z', 'total_inv_mass_pred_Z', 'total_inv_mass_true_O', 'total_inv_mass_pred_O']\n"
      ],
      "execution_count": null,
      "outputs": []
    },
    {
      "cell_type": "code",
      "metadata": {
        "colab": {
          "base_uri": "https://localhost:8080/"
        },
        "id": "mHlZ7JXAhJoV",
        "outputId": "b96010a1-f2a1-49bf-8f1d-ed49c7c5f287"
      },
      "source": [
        "! ls /content/drive/MyDrive/FCC_Experiments_2021/model_gcn/variable/depth_2/physics_performance_metrics/invariant_mass/\n"
      ],
      "execution_count": null,
      "outputs": [
        {
          "output_type": "stream",
          "name": "stdout",
          "text": [
            "knn  label  radius\n"
          ]
        }
      ]
    },
    {
      "cell_type": "code",
      "metadata": {
        "id": "w4YuVQNxhPOs"
      },
      "source": [
        "path_to_experiment = '/content/drive/MyDrive/FCC_Experiments_2021/model_gcn/variable/depth_2/physics_performance_metrics/invariant_mass/' "
      ],
      "execution_count": null,
      "outputs": []
    },
    {
      "cell_type": "code",
      "metadata": {
        "id": "_AcfNaPlhKPY"
      },
      "source": [
        "df_knn_inv_mass.to_csv( path_to_experiment+ 'knn/df_knn_inv_mass.csv')\n",
        "df_radius_inv_mass.to_csv(path_to_experiment+'radius/df_radius_inv_mass.csv')\n",
        "df_label_inv_mass.to_csv(path_to_experiment+'label/df_label_inv_mass.csv')"
      ],
      "execution_count": null,
      "outputs": []
    },
    {
      "cell_type": "markdown",
      "metadata": {
        "id": "IE7Dt5Unbo_U"
      },
      "source": [
        "# KNN "
      ]
    },
    {
      "cell_type": "code",
      "metadata": {
        "id": "g02nS2q3Yp87"
      },
      "source": [
        "plot_invariant_mass(df_knn_inv_mass['total_inv_mass_pred_H'], df_knn_inv_mass['total_inv_mass_pred_Z'], \n",
        "                    label_pred=\"Predicted Invariant Mass of Higgs\", \n",
        "                    label_true= \"Predicted Invariant Mass of Z\")\n",
        "\n",
        "plot_invariant_mass(df_knn_inv_mass['total_inv_mass_pred_H'], df_knn_inv_mass['total_inv_mass_true_H'], \n",
        "                    label_pred=\"Predicted Invariant Mass of Higgs Boson\", \n",
        "                    label_true= \"True Invariant Mass of Higgs Boson\")\n",
        "\n",
        "plot_invariant_mass(df_knn_inv_mass['total_inv_mass_pred_Z'], df_knn_inv_mass['total_inv_mass_true_Z'], \n",
        "                    label_pred=\"Predicted Invariant Mass of Z Boson\", \n",
        "                    label_true= \"True Invariant Mass of Z Boson\")\n",
        "\n",
        "plot_invariant_mass(df_knn_inv_mass['total_inv_mass_pred_O'], df_knn_inv_mass['total_inv_mass_true_O'], \n",
        "                    label_pred=\"Predicted Invariant Mass of others\", \n",
        "                    label_true= \"True Invariant Mass of others\")"
      ],
      "execution_count": null,
      "outputs": []
    },
    {
      "cell_type": "code",
      "metadata": {
        "id": "JPi6hJEjbmTU"
      },
      "source": [
        "plot_histogram(df_knn_inv_mass['total_inv_mass_pred_H'], df_knn_inv_mass['total_inv_mass_true_H'], \n",
        "                    label_pred=\"Predicted Invariant Mass of Higgs Boson\", \n",
        "                    label_true= \"True Invariant Mass of Higgs Boson\")\n",
        "\n",
        "\n",
        "plot_histogram(df_knn_inv_mass['total_inv_mass_pred_Z'], df_knn_inv_mass['total_inv_mass_true_Z'], \n",
        "                    label_pred=\"Predicted Invariant Mass of Z Boson\", \n",
        "                    label_true= \"True Invariant Mass of Z Boson\")\n",
        "\n",
        "plot_histogram(df_knn_inv_mass['total_inv_mass_pred_O'], df_knn_inv_mass['total_inv_mass_true_O'], \n",
        "                    label_pred=\"Predicted Invariant Mass of others\", \n",
        "                    label_true= \"True Invariant Mass of others\")"
      ],
      "execution_count": null,
      "outputs": []
    },
    {
      "cell_type": "markdown",
      "metadata": {
        "id": "YTktVwjFckkB"
      },
      "source": [
        "# Radius \n"
      ]
    },
    {
      "cell_type": "code",
      "metadata": {
        "id": "6kVI19M7ZcfB"
      },
      "source": [
        "plot_invariant_mass(df_radius_inv_mass['total_inv_mass_pred_H'], df_radius_inv_mass['total_inv_mass_pred_Z'], \n",
        "                    label_pred=\"Predicted Invariant Mass of Higgs\", \n",
        "                    label_true= \"Predicted Invariant Mass of Z\")\n",
        "\n",
        "plot_invariant_mass(df_radius_inv_mass['total_inv_mass_pred_H'], df_radius_inv_mass['total_inv_mass_true_H'], \n",
        "                    label_pred=\"Predicted Invariant Mass of Higgs Boson\", \n",
        "                    label_true= \"True Invariant Mass of Higgs Boson\")\n",
        "\n",
        "plot_invariant_mass(df_radius_inv_mass['total_inv_mass_pred_Z'], df_radius_inv_mass['total_inv_mass_true_Z'], \n",
        "                    label_pred=\"Predicted Invariant Mass of Z Boson\", \n",
        "                    label_true= \"True Invariant Mass of Z Boson\")\n",
        "\n",
        "plot_invariant_mass(df_radius_inv_mass['total_inv_mass_pred_O'], df_radius_inv_mass['total_inv_mass_true_O'], \n",
        "                    label_pred=\"Predicted Invariant Mass of others\", \n",
        "                    label_true= \"True Invariant Mass of others\")"
      ],
      "execution_count": null,
      "outputs": []
    },
    {
      "cell_type": "code",
      "metadata": {
        "id": "LucnyImXcrQ-"
      },
      "source": [
        "plot_histogram(df_radius_inv_mass['total_inv_mass_pred_H'], df_radius_inv_mass['total_inv_mass_true_H'], \n",
        "                    label_pred=\"Predicted Invariant Mass of Higgs Boson\", \n",
        "                    label_true= \"True Invariant Mass of Higgs Boson\")\n",
        "\n",
        "\n",
        "plot_histogram(df_radius_inv_mass['total_inv_mass_pred_Z'], df_radius_inv_mass['total_inv_mass_true_Z'], \n",
        "                    label_pred=\"Predicted Invariant Mass of Z Boson\", \n",
        "                    label_true= \"True Invariant Mass of Z Boson\")\n",
        "\n",
        "plot_histogram(df_radius_inv_mass['total_inv_mass_pred_O'], df_radius_inv_mass['total_inv_mass_true_O'], \n",
        "                    label_pred=\"Predicted Invariant Mass of others\", \n",
        "                    label_true= \"True Invariant Mass of others\")"
      ],
      "execution_count": null,
      "outputs": []
    },
    {
      "cell_type": "markdown",
      "metadata": {
        "id": "oQmrC2oPcyWo"
      },
      "source": [
        "# Label "
      ]
    },
    {
      "cell_type": "code",
      "metadata": {
        "id": "NybwqzgUcy0R"
      },
      "source": [
        "plot_invariant_mass(df_label_inv_mass['total_inv_mass_pred_H'], df_label_inv_mass['total_inv_mass_pred_Z'], \n",
        "                    label_pred=\"Predicted Invariant Mass of Higgs\", \n",
        "                    label_true= \"Predicted Invariant Mass of Z\")\n",
        "\n",
        "plot_invariant_mass(df_label_inv_mass['total_inv_mass_pred_H'], df_label_inv_mass['total_inv_mass_true_H'], \n",
        "                    label_pred=\"Predicted Invariant Mass of Higgs Boson\", \n",
        "                    label_true= \"True Invariant Mass of Higgs Boson\")\n",
        "\n",
        "plot_invariant_mass(df_label_inv_mass['total_inv_mass_pred_Z'], df_label_inv_mass['total_inv_mass_true_Z'], \n",
        "                    label_pred=\"Predicted Invariant Mass of Z Boson\", \n",
        "                    label_true= \"True Invariant Mass of Z Boson\")\n",
        "\n",
        "plot_invariant_mass(df_label_inv_mass['total_inv_mass_pred_O'], df_label_inv_mass['total_inv_mass_true_O'], \n",
        "                    label_pred=\"Predicted Invariant Mass of others\", \n",
        "                    label_true= \"True Invariant Mass of others\")"
      ],
      "execution_count": null,
      "outputs": []
    },
    {
      "cell_type": "code",
      "metadata": {
        "id": "bmSu22F0c84y"
      },
      "source": [
        "plot_histogram(df_label_inv_mass['total_inv_mass_pred_H'], df_label_inv_mass['total_inv_mass_true_H'], \n",
        "                    label_pred=\"Predicted Invariant Mass of Higgs Boson\", \n",
        "                    label_true= \"True Invariant Mass of Higgs Boson\")\n",
        "\n",
        "plot_histogram(df_label_inv_mass['total_inv_mass_pred_Z'], df_label_inv_mass['total_inv_mass_true_Z'], \n",
        "                    label_pred=\"Predicted Invariant Mass of Z Boson\", \n",
        "                    label_true= \"True Invariant Mass of Z Boson\")\n",
        "\n",
        "plot_histogram(df_label_inv_mass['total_inv_mass_pred_O'], df_label_inv_mass['total_inv_mass_true_O'], \n",
        "                    label_pred=\"Predicted Invariant Mass of others\", \n",
        "                    label_true= \"True Invariant Mass of others\")"
      ],
      "execution_count": null,
      "outputs": []
    },
    {
      "cell_type": "code",
      "metadata": {
        "id": "WXmGDklwiTPh"
      },
      "source": [
        ""
      ],
      "execution_count": null,
      "outputs": []
    }
  ]
}